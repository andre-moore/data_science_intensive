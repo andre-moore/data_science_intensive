{
 "cells": [
  {
   "cell_type": "markdown",
   "metadata": {},
   "source": [
    "<h1> Examining Racial Discrimination in the US Job Market </h1>\n",
    "\n",
    "\n",
    "<h2>Background</h2>\n",
    "\n",
    "Racial discrimination continues to be pervasive in cultures throughout the world. Researchers examined the level of racial discrimination in the United States labor market by randomly assigning identical résumés to black-sounding or white-sounding names and observing the impact on requests for interviews from employers.\n",
    "\n",
    "<h2>Data</h2>\n",
    "\n",
    "In the dataset provided, each row represents a resume. The 'race' column has two values, 'b' and 'w', indicating black-sounding and white-sounding. The column 'call' has two values, 1 and 0, indicating whether the resume received a call from employers or not.\n",
    "\n",
    "Note that the 'b' and 'w' values in race are assigned randomly to the resumes when presented to the employer."
   ]
  },
  {
   "cell_type": "markdown",
   "metadata": {},
   "source": [
    "### Exercises\n",
    "You will perform a statistical analysis to establish whether race has a significant impact on the rate of callbacks for resumes.\n",
    "\n",
    "Answer the following questions **in this notebook below and submit to your Github account**. \n",
    "\n",
    "   1. What test is appropriate for this problem? Does CLT apply?\n",
    "   2. What are the null and alternate hypotheses?\n",
    "   3. Compute margin of error, confidence interval, and p-value.\n",
    "   4. Write a story describing the statistical significance in the context or the original problem.\n",
    "   5. Does your analysis mean that race/name is the most important factor in callback success? Why or why not? If not, how would you amend your analysis?\n",
    "\n",
    "You can include written notes in notebook cells using Markdown: \n",
    "   - In the control panel at the top, choose Cell > Cell Type > Markdown\n",
    "   - Markdown syntax: http://nestacms.com/docs/creating-content/markdown-cheat-sheet\n",
    "\n",
    "\n",
    "#### Resources\n",
    "+ Experiment information and data source: http://www.povertyactionlab.org/evaluation/discrimination-job-market-united-states\n",
    "+ Scipy statistical methods: http://docs.scipy.org/doc/scipy/reference/stats.html \n",
    "+ Markdown syntax: http://nestacms.com/docs/creating-content/markdown-cheat-sheet\n"
   ]
  },
  {
   "cell_type": "markdown",
   "metadata": {},
   "source": [
    "<h2> Hypothesis Testing Approach</h2>\n",
    "\n",
    "This approach to testing this problem consists of four steps: \n",
    " (1) State the hypotheses, \n",
    " (2) Formulate an analysis \n",
    " - Test Method. Use the two proportion z-test to determine if the hypothesized difference between population\n",
    "   proportions differs significantly from the observed sample difference. \n",
    "   differs significantly from the observed\n",
    " (3) Analyze sample data\n",
    " \n",
    "    - **Pooled sample proportion** Since the null hypothesis states that P1=P2, we use a pooled sample proportion (p) \n",
    "      to compute the standard error of the sampling distribution.\n",
    "\n",
    "      p = (p1 * n1 + p2 * n2) / (n1 + n2)\n",
    "\n",
    "      where p1 is the sample proportion from population 1, p2 is the sample proportion from population 2, n1 is the size \n",
    "      of sample 1, and n2 is the size of sample 2.\n",
    "      <br>  <br>  \n",
    "    - **Standard error** Compute the standard error (SE) of the sampling distribution difference between two proportions.\n",
    "      \n",
    "      SE = sqrt{ p * ( 1 - p ) * [ (1/n1) + (1/n2) ] }\n",
    "\n",
    "      where p is the pooled sample proportion, n1 is the size of sample 1, and n2 is the size of sample 2.\n",
    "      <br>  <br>  \n",
    "    - **Test statistic** The test statistic is a z-score (z) defined by the following equation.\n",
    "\n",
    "      z = (p1 - p2) / SE\n",
    "\n",
    "      where p1 is the proportion from sample 1, p2 is the proportion from sample 2, and SE is the standard error of the \n",
    "      sampling distribution.\n",
    "      <br>  <br>\n",
    "      \n",
    "    - **P-value** The P-value is the probability of observing a sample statistic as extreme as the test statistic. Since the\n",
    "      test statistic is a z-score, use the Normal Distribution Calculator to assess the probability associated with \n",
    "      the z-score.\n",
    "     \n",
    "\n",
    " (4) Interpret results."
   ]
  },
  {
   "cell_type": "code",
   "execution_count": 174,
   "metadata": {
    "collapsed": true
   },
   "outputs": [],
   "source": [
    "import pandas as pd\n",
    "import numpy as np\n",
    "from scipy import stats\n",
    "import math"
   ]
  },
  {
   "cell_type": "code",
   "execution_count": 170,
   "metadata": {
    "collapsed": false
   },
   "outputs": [],
   "source": [
    "dataset = pd.io.stata.read_stata('data/us_job_market_discrimination.dta')"
   ]
  },
  {
   "cell_type": "code",
   "execution_count": 34,
   "metadata": {
    "collapsed": false
   },
   "outputs": [
    {
     "data": {
      "text/html": [
       "<div>\n",
       "<table border=\"1\" class=\"dataframe\">\n",
       "  <thead>\n",
       "    <tr style=\"text-align: right;\">\n",
       "      <th></th>\n",
       "      <th>id</th>\n",
       "      <th>ad</th>\n",
       "      <th>education</th>\n",
       "      <th>ofjobs</th>\n",
       "      <th>yearsexp</th>\n",
       "      <th>honors</th>\n",
       "      <th>volunteer</th>\n",
       "      <th>military</th>\n",
       "      <th>empholes</th>\n",
       "      <th>occupspecific</th>\n",
       "      <th>...</th>\n",
       "      <th>compreq</th>\n",
       "      <th>orgreq</th>\n",
       "      <th>manuf</th>\n",
       "      <th>transcom</th>\n",
       "      <th>bankreal</th>\n",
       "      <th>trade</th>\n",
       "      <th>busservice</th>\n",
       "      <th>othservice</th>\n",
       "      <th>missind</th>\n",
       "      <th>ownership</th>\n",
       "    </tr>\n",
       "  </thead>\n",
       "  <tbody>\n",
       "    <tr>\n",
       "      <th>0</th>\n",
       "      <td>b</td>\n",
       "      <td>1</td>\n",
       "      <td>4</td>\n",
       "      <td>2</td>\n",
       "      <td>6</td>\n",
       "      <td>0</td>\n",
       "      <td>0</td>\n",
       "      <td>0</td>\n",
       "      <td>1</td>\n",
       "      <td>17</td>\n",
       "      <td>...</td>\n",
       "      <td>1.0</td>\n",
       "      <td>0.0</td>\n",
       "      <td>1.0</td>\n",
       "      <td>0.0</td>\n",
       "      <td>0.0</td>\n",
       "      <td>0.0</td>\n",
       "      <td>0.0</td>\n",
       "      <td>0.0</td>\n",
       "      <td>0.0</td>\n",
       "      <td></td>\n",
       "    </tr>\n",
       "    <tr>\n",
       "      <th>1</th>\n",
       "      <td>b</td>\n",
       "      <td>1</td>\n",
       "      <td>3</td>\n",
       "      <td>3</td>\n",
       "      <td>6</td>\n",
       "      <td>0</td>\n",
       "      <td>1</td>\n",
       "      <td>1</td>\n",
       "      <td>0</td>\n",
       "      <td>316</td>\n",
       "      <td>...</td>\n",
       "      <td>1.0</td>\n",
       "      <td>0.0</td>\n",
       "      <td>1.0</td>\n",
       "      <td>0.0</td>\n",
       "      <td>0.0</td>\n",
       "      <td>0.0</td>\n",
       "      <td>0.0</td>\n",
       "      <td>0.0</td>\n",
       "      <td>0.0</td>\n",
       "      <td></td>\n",
       "    </tr>\n",
       "    <tr>\n",
       "      <th>2</th>\n",
       "      <td>b</td>\n",
       "      <td>1</td>\n",
       "      <td>4</td>\n",
       "      <td>1</td>\n",
       "      <td>6</td>\n",
       "      <td>0</td>\n",
       "      <td>0</td>\n",
       "      <td>0</td>\n",
       "      <td>0</td>\n",
       "      <td>19</td>\n",
       "      <td>...</td>\n",
       "      <td>1.0</td>\n",
       "      <td>0.0</td>\n",
       "      <td>1.0</td>\n",
       "      <td>0.0</td>\n",
       "      <td>0.0</td>\n",
       "      <td>0.0</td>\n",
       "      <td>0.0</td>\n",
       "      <td>0.0</td>\n",
       "      <td>0.0</td>\n",
       "      <td></td>\n",
       "    </tr>\n",
       "    <tr>\n",
       "      <th>3</th>\n",
       "      <td>b</td>\n",
       "      <td>1</td>\n",
       "      <td>3</td>\n",
       "      <td>4</td>\n",
       "      <td>6</td>\n",
       "      <td>0</td>\n",
       "      <td>1</td>\n",
       "      <td>0</td>\n",
       "      <td>1</td>\n",
       "      <td>313</td>\n",
       "      <td>...</td>\n",
       "      <td>1.0</td>\n",
       "      <td>0.0</td>\n",
       "      <td>1.0</td>\n",
       "      <td>0.0</td>\n",
       "      <td>0.0</td>\n",
       "      <td>0.0</td>\n",
       "      <td>0.0</td>\n",
       "      <td>0.0</td>\n",
       "      <td>0.0</td>\n",
       "      <td></td>\n",
       "    </tr>\n",
       "    <tr>\n",
       "      <th>4</th>\n",
       "      <td>b</td>\n",
       "      <td>1</td>\n",
       "      <td>3</td>\n",
       "      <td>3</td>\n",
       "      <td>22</td>\n",
       "      <td>0</td>\n",
       "      <td>0</td>\n",
       "      <td>0</td>\n",
       "      <td>0</td>\n",
       "      <td>313</td>\n",
       "      <td>...</td>\n",
       "      <td>1.0</td>\n",
       "      <td>1.0</td>\n",
       "      <td>0.0</td>\n",
       "      <td>0.0</td>\n",
       "      <td>0.0</td>\n",
       "      <td>0.0</td>\n",
       "      <td>0.0</td>\n",
       "      <td>1.0</td>\n",
       "      <td>0.0</td>\n",
       "      <td>Nonprofit</td>\n",
       "    </tr>\n",
       "  </tbody>\n",
       "</table>\n",
       "<p>5 rows × 65 columns</p>\n",
       "</div>"
      ],
      "text/plain": [
       "  id ad  education  ofjobs  yearsexp  honors  volunteer  military  empholes  \\\n",
       "0  b  1          4       2         6       0          0         0         1   \n",
       "1  b  1          3       3         6       0          1         1         0   \n",
       "2  b  1          4       1         6       0          0         0         0   \n",
       "3  b  1          3       4         6       0          1         0         1   \n",
       "4  b  1          3       3        22       0          0         0         0   \n",
       "\n",
       "   occupspecific    ...      compreq  orgreq  manuf  transcom  bankreal trade  \\\n",
       "0             17    ...          1.0     0.0    1.0       0.0       0.0   0.0   \n",
       "1            316    ...          1.0     0.0    1.0       0.0       0.0   0.0   \n",
       "2             19    ...          1.0     0.0    1.0       0.0       0.0   0.0   \n",
       "3            313    ...          1.0     0.0    1.0       0.0       0.0   0.0   \n",
       "4            313    ...          1.0     1.0    0.0       0.0       0.0   0.0   \n",
       "\n",
       "  busservice othservice  missind  ownership  \n",
       "0        0.0        0.0      0.0             \n",
       "1        0.0        0.0      0.0             \n",
       "2        0.0        0.0      0.0             \n",
       "3        0.0        0.0      0.0             \n",
       "4        0.0        1.0      0.0  Nonprofit  \n",
       "\n",
       "[5 rows x 65 columns]"
      ]
     },
     "execution_count": 34,
     "metadata": {},
     "output_type": "execute_result"
    }
   ],
   "source": [
    "dataset.head()"
   ]
  },
  {
   "cell_type": "code",
   "execution_count": 35,
   "metadata": {
    "collapsed": false
   },
   "outputs": [
    {
     "data": {
      "text/plain": [
       "4870"
      ]
     },
     "execution_count": 35,
     "metadata": {},
     "output_type": "execute_result"
    }
   ],
   "source": [
    "# number of rows in dataset\n",
    "len(dataset)"
   ]
  },
  {
   "cell_type": "markdown",
   "metadata": {
    "collapsed": true
   },
   "source": [
    "<h2> 1. What test is appropriate for this problem? Does CLT apply? </h2>"
   ]
  },
  {
   "cell_type": "markdown",
   "metadata": {},
   "source": [
    "The appropriate test for this problem is the **two-proportion z-test**\n",
    "\n",
    "The reason the **two-proportion z-test** is appropriate is because we need to determine if the difference between the two proportions (black and white candidates) is significant. \n",
    "\n",
    "However to satisfy the requirement for the **two-proportion z-test**, the following conditions must be met.\n",
    "\n",
    "- The sampling method for each population is simple random sampling.\n",
    "- The samples are independent.\n",
    "- Each sample includes at least 10 successes and 10 failures.\n",
    "- Each population is at least 20 times as big as its sample.\n",
    "\n"
   ]
  },
  {
   "cell_type": "markdown",
   "metadata": {},
   "source": [
    "<h2> Does CLT apply? </h2>"
   ]
  },
  {
   "cell_type": "markdown",
   "metadata": {},
   "source": [
    "Certain conditions must be met to use the CLT.\n",
    "\n",
    "● **The samples must be independent**\n",
    "\n",
    "According to the problem statement, researchers \"randomly assign[ed] identical résumés to black-sounding or white-sounding names and observing the impact on requests for interviews from employers. \n",
    "\n",
    "● **The sample size must be “big enough”**\n",
    "\n",
    "CLT requires that the “10% Rule” apply (i.e. the sample size must not be bigger than 10% of the entire population). The size of both the black and white samples is 2435. The assumption is our sample size for both black and white candidates is less than 10% of the overall populations of black and white candidates in the US job market. \n",
    " \n",
    "It appears for this problem the CLT conditions have been met. "
   ]
  },
  {
   "cell_type": "code",
   "execution_count": 78,
   "metadata": {
    "collapsed": false
   },
   "outputs": [
    {
     "data": {
      "text/plain": [
       "0.064476386036960986"
      ]
     },
     "execution_count": 78,
     "metadata": {},
     "output_type": "execute_result"
    }
   ],
   "source": [
    "# number of callbacks for black-sounding names\n",
    "total_callblk_blk = sum(dataset[dataset.race=='b'].call)\n",
    "# total number of blacks\n",
    "blk_samp_sz = len(data[data.race=='b'])\n",
    "\n",
    "blk_cb_rate = total_callblk_blk / blk_samp_sz\n",
    "blk_cb_rate"
   ]
  },
  {
   "cell_type": "code",
   "execution_count": 81,
   "metadata": {
    "collapsed": false
   },
   "outputs": [
    {
     "data": {
      "text/plain": [
       "0.096509240246406572"
      ]
     },
     "execution_count": 81,
     "metadata": {},
     "output_type": "execute_result"
    }
   ],
   "source": [
    "# number of callbacks for white-sounding names\n",
    "total_callblk_wht = sum(dataset[dataset.race=='w'].call)\n",
    "# total number of whites\n",
    "wht_samp_sz = len(data[data.race=='w'])\n",
    "\n",
    "wht_cb_rate = total_callblk_wht / wht_samp_sz\n",
    "wht_cb_rate"
   ]
  },
  {
   "cell_type": "markdown",
   "metadata": {},
   "source": [
    "With our unpaired tests we test if the null hypothesis of the two responses which are measured in the same unit have a difference with a mean value of zero. From our results we can conclude that the rate of callbacks for resumes between black and white candidates are indeed different (p <  0.01). Hence, the two population variances are not equal."
   ]
  },
  {
   "cell_type": "markdown",
   "metadata": {},
   "source": [
    "<h2>2. What are the null and alternate hypotheses?</h2>\n",
    "With our unpaired tests the hypothesis is as follows;\n",
    "- the **null hypothesis (H0)** is that there is no difference in the means of callbacks of black and white candidates any any difference is purely to chance.\n",
    "- the **alternate hypothesis (H1)** is that any difference in the means of callbacks of black and white candidates is due to influenced by some non-random cause.\n",
    "\n",
    "\n",
    "<h3>Ho: callbk_blks - callbk_wht = 0</h3>  \n",
    "\n",
    "(there is no significant difference between the rate of callbacks for black and white candidates and if any it's purely to chance).\n",
    "\n",
    "<h3>H1: callbk_blk - callbk_wht !=0</h3>  \n",
    "\n",
    "(there is a material difference in the rate of callbacks between black and white candidates which is due to influence by some non-random cause)."
   ]
  },
  {
   "cell_type": "markdown",
   "metadata": {},
   "source": [
    "<h2>3. Compute margin of error, confidence interval, and p-value</h2>"
   ]
  },
  {
   "cell_type": "code",
   "execution_count": 194,
   "metadata": {
    "collapsed": false
   },
   "outputs": [
    {
     "name": "stdout",
     "output_type": "stream",
     "text": [
      "Pooled Proportion: 0.0804928131417\n",
      "Standard Error: 0.02100174746004366\n",
      "Test Statisic: (z) 1.52524709053\n",
      "Margin of Error: 0.015255406349886438\n",
      "Confidence Interval: 0.0167774478596 <-> 0.0472882605593\n"
     ]
    }
   ],
   "source": [
    "# Calculate the standard deviation  \n",
    "std_dev = math.sqrt((wht_cb_rate * (1-wht_cb_rate) / total_wht) + (blk_cb_rate * (1-blk_cb_rate)/total_blk))\n",
    "\n",
    "# margin of error (z_value * std_dev)\n",
    "margin_err = z_val * std_dev\n",
    "\n",
    "# critical value is 1.96 for 95% confidence \n",
    "# z_critical = stats.norm.ppf(q = 0.975)\n",
    "\n",
    "# z value for 95% confidence  \n",
    "z_val = 1.96 \n",
    "\n",
    "\n",
    "#Pooled sample proportion\n",
    "#p = (p1 * n1 + p2 * n2) / (n1 + n2)\n",
    "p = (wht_cb_rate * wht_samp_sz + blk_cb_rate * blk_samp_sz) / (wht_samp_sz + blk_samp_sz)\n",
    "\n",
    "# where p1 is the sample proportion in sample 1, p2  is the sample proportion in sample 2\n",
    "\n",
    "# Standard error Compute the standard error (SE) of the sampling distribution difference between two proportions.\n",
    "# SE = sqrt( p ( 1 - p ) [ (1/n1) + (1/n2) ] )\n",
    "SE = math.sqrt(p*(1 - p) * (1/wht_samp_sz) + (1/blk_samp_sz))\n",
    "\n",
    "# where p is the pooled sample proportion, n1 is the size of sample 1, and n2 is the size of sample 2. \n",
    "\n",
    "# test statistic The test statistic is a z-score (z) defined by the following equation.\n",
    "# z = (p1 - p2) / SE\n",
    "z = (wht_cb_rate - blk_cb_rate)/SE       \n",
    "       \n",
    "# where p1 is the proportion from sample 1, p2 is the proportion from sample 2, and SE is the standard error of the sampling distribution. \n",
    "\n",
    "# P-value The P-value is the probability of observing a sample statistic as extreme as the test statistic. \n",
    "# Since the test statistic is a z-score, use the Normal Distribution Calculator to assess the probability associated with the z-score.\n",
    "          \n",
    "# difference between sample proportion (is the proportion of individuals in the sample that had the\n",
    "# characteristic of interest, i.e callbacks)\n",
    "p_hat = wht_cb_rate - blk_cb_rate \n",
    "\n",
    "# sample size (both black & white are the sample sizes)\n",
    "n = wht_samp_sz \n",
    "\n",
    "# Confidence interval for population proportion\n",
    "\n",
    "ci_lower = p_hat - margin_err\n",
    "ci_upper = p_hat + margin_err\n",
    "\n",
    "print('Pooled Proportion:',p)\n",
    "print('Standard Error:',SE)\n",
    "print('Test Statisic: (z)',z)\n",
    "print('Margin of Error:',margin_err)\n",
    "print('Confidence Interval:',ci_lower, \"<->\", ci_upper)"
   ]
  },
  {
   "cell_type": "markdown",
   "metadata": {},
   "source": [
    "<h2>4. Write a story describing the statistical significance in the context or the original problem.</h2>"
   ]
  },
  {
   "cell_type": "markdown",
   "metadata": {},
   "source": [
    "Since we have a two-tailed test, the P-value is the probability that the z-score is less than -1.53 or greater than 1.53.\n",
    "\n",
    "We use the normal distribution tables to find P(z < -1.53) = 0.063, and P(z > 1.53) = 0.063.  Thus, the P-value = \n",
    "0.063 + 0.063 = 0.126.\n",
    "\n",
    "Interpret results. Since the P-value (0.126) is greater than the significance level (0.05), we cannot accept the null hypothesis."
   ]
  },
  {
   "cell_type": "markdown",
   "metadata": {},
   "source": [
    "<h2>5. Does your analysis mean that race/name is the most important factor in callback success? \n",
    "Why or why not? If not, how would you amend your analysis?</h2>"
   ]
  }
 ],
 "metadata": {
  "kernelspec": {
   "display_name": "Python 3",
   "language": "python",
   "name": "python3"
  },
  "language_info": {
   "codemirror_mode": {
    "name": "ipython",
    "version": 3
   },
   "file_extension": ".py",
   "mimetype": "text/x-python",
   "name": "python",
   "nbconvert_exporter": "python",
   "pygments_lexer": "ipython3",
   "version": "3.5.2"
  }
 },
 "nbformat": 4,
 "nbformat_minor": 0
}
